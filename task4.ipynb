{
 "cells": [
  {
   "metadata": {},
   "cell_type": "markdown",
   "source": "Load the rfc model for baseline ",
   "id": "68e95b6c14681817"
  },
  {
   "metadata": {
    "jupyter": {
     "is_executing": true
    }
   },
   "cell_type": "code",
   "source": [
    "import joblib\n",
    "import os\n",
    "print(os.getcwd())\n",
    "\n",
    "rfc = joblib.load('./random_forest_model.pkl')\n",
    "rfc"
   ],
   "id": "778a8c294f0510b",
   "outputs": [],
   "execution_count": null
  },
  {
   "metadata": {},
   "cell_type": "markdown",
   "source": "# Load the validation data",
   "id": "546afd556067d244"
  },
  {
   "metadata": {
    "ExecuteTime": {
     "end_time": "2024-06-09T20:23:11.739433Z",
     "start_time": "2024-06-09T20:23:11.724410Z"
    }
   },
   "cell_type": "code",
   "source": [
    "# the recordings are in separate npy files in the validation folder\n",
    "import numpy as np\n",
    "\n",
    "folder = './validation_data/'\n",
    "filename = '2_Florian_Heizung_aus.npy' # change this to the file you want to load\n",
    "val_data = np.load(folder + filename)\n",
    "# shape is  (1, 175, 854) but it should be (854, 175) so we need to remove the first dimension\n",
    "val_data = val_data[0]\n",
    "val_data = val_data.T\n",
    "val_data.shape"
   ],
   "id": "7f5e3a68cd74314c",
   "outputs": [
    {
     "data": {
      "text/plain": [
       "(854, 175)"
      ]
     },
     "execution_count": 40,
     "metadata": {},
     "output_type": "execute_result"
    }
   ],
   "execution_count": 40
  },
  {
   "metadata": {},
   "cell_type": "markdown",
   "source": "Run the baseline model on the validation data and save the results in csv file",
   "id": "5187a0d5acebdd77"
  },
  {
   "metadata": {
    "ExecuteTime": {
     "end_time": "2024-06-09T20:23:11.823194Z",
     "start_time": "2024-06-09T20:23:11.744821Z"
    }
   },
   "cell_type": "code",
   "source": [
    "from helpers import convert_int_to_label\n",
    "# some information about the csv result file:\n",
    "#  four columns: first is the filename, second is the predicted command and third is the probability of the prediction and fourth is timestamp\n",
    "#  the filename is the name of the file in the validation folder\n",
    "#  the predicted command is the command that the model predicts for the file\n",
    "#  the probability is the probability of the predicted command\n",
    "#  the timestamp is the time of the prediction, which we can calculate by multiplying the index of the prediction by the duration of each recording which are 25 ms per frame\n",
    "\n",
    "import pandas as pd\n",
    "\n",
    "def run_baseline_model(rfc, val_data, filename):\n",
    "    # get the predictions and probabilities\n",
    "    predictions_int = rfc.predict(val_data)\n",
    "    # convert the numerical predictions to the commands by using the function in helpers.py\n",
    "    predictions = []\n",
    "    for i in range(len(predictions_int)):\n",
    "        predictions.append(convert_int_to_label(int(predictions_int[i])))\n",
    "    \n",
    "    probabilities = rfc.predict_proba(val_data)\n",
    "    # get the commands\n",
    "    commands = rfc.classes_\n",
    "    # get the timestamps\n",
    "    timestamps = np.arange(len(predictions)) * 0.025\n",
    "    # create the dataframe\n",
    "    df = pd.DataFrame({'filename': [filename] * len(predictions), 'predicted_command': predictions, 'probability': np.max(probabilities, axis=1), 'timestamp': timestamps})\n",
    "    return df\n",
    "\n",
    "df = run_baseline_model(rfc, val_data, filename)\n",
    "df"
   ],
   "id": "48b3f2fbc228bed",
   "outputs": [
    {
     "data": {
      "text/plain": [
       "                      filename predicted_command  probability  timestamp\n",
       "0    2_Florian_Heizung_aus.npy           Spiegel     0.096944      0.000\n",
       "1    2_Florian_Heizung_aus.npy           Spiegel     0.096944      0.025\n",
       "2    2_Florian_Heizung_aus.npy           Spiegel     0.096944      0.050\n",
       "3    2_Florian_Heizung_aus.npy              kann     0.080000      0.075\n",
       "4    2_Florian_Heizung_aus.npy             offen     0.090000      0.100\n",
       "..                         ...               ...          ...        ...\n",
       "849  2_Florian_Heizung_aus.npy             other     0.220000     21.225\n",
       "850  2_Florian_Heizung_aus.npy             other     0.200000     21.250\n",
       "851  2_Florian_Heizung_aus.npy             other     0.230000     21.275\n",
       "852  2_Florian_Heizung_aus.npy             other     0.230000     21.300\n",
       "853  2_Florian_Heizung_aus.npy             other     0.230000     21.325\n",
       "\n",
       "[854 rows x 4 columns]"
      ],
      "text/html": [
       "<div>\n",
       "<style scoped>\n",
       "    .dataframe tbody tr th:only-of-type {\n",
       "        vertical-align: middle;\n",
       "    }\n",
       "\n",
       "    .dataframe tbody tr th {\n",
       "        vertical-align: top;\n",
       "    }\n",
       "\n",
       "    .dataframe thead th {\n",
       "        text-align: right;\n",
       "    }\n",
       "</style>\n",
       "<table border=\"1\" class=\"dataframe\">\n",
       "  <thead>\n",
       "    <tr style=\"text-align: right;\">\n",
       "      <th></th>\n",
       "      <th>filename</th>\n",
       "      <th>predicted_command</th>\n",
       "      <th>probability</th>\n",
       "      <th>timestamp</th>\n",
       "    </tr>\n",
       "  </thead>\n",
       "  <tbody>\n",
       "    <tr>\n",
       "      <th>0</th>\n",
       "      <td>2_Florian_Heizung_aus.npy</td>\n",
       "      <td>Spiegel</td>\n",
       "      <td>0.096944</td>\n",
       "      <td>0.000</td>\n",
       "    </tr>\n",
       "    <tr>\n",
       "      <th>1</th>\n",
       "      <td>2_Florian_Heizung_aus.npy</td>\n",
       "      <td>Spiegel</td>\n",
       "      <td>0.096944</td>\n",
       "      <td>0.025</td>\n",
       "    </tr>\n",
       "    <tr>\n",
       "      <th>2</th>\n",
       "      <td>2_Florian_Heizung_aus.npy</td>\n",
       "      <td>Spiegel</td>\n",
       "      <td>0.096944</td>\n",
       "      <td>0.050</td>\n",
       "    </tr>\n",
       "    <tr>\n",
       "      <th>3</th>\n",
       "      <td>2_Florian_Heizung_aus.npy</td>\n",
       "      <td>kann</td>\n",
       "      <td>0.080000</td>\n",
       "      <td>0.075</td>\n",
       "    </tr>\n",
       "    <tr>\n",
       "      <th>4</th>\n",
       "      <td>2_Florian_Heizung_aus.npy</td>\n",
       "      <td>offen</td>\n",
       "      <td>0.090000</td>\n",
       "      <td>0.100</td>\n",
       "    </tr>\n",
       "    <tr>\n",
       "      <th>...</th>\n",
       "      <td>...</td>\n",
       "      <td>...</td>\n",
       "      <td>...</td>\n",
       "      <td>...</td>\n",
       "    </tr>\n",
       "    <tr>\n",
       "      <th>849</th>\n",
       "      <td>2_Florian_Heizung_aus.npy</td>\n",
       "      <td>other</td>\n",
       "      <td>0.220000</td>\n",
       "      <td>21.225</td>\n",
       "    </tr>\n",
       "    <tr>\n",
       "      <th>850</th>\n",
       "      <td>2_Florian_Heizung_aus.npy</td>\n",
       "      <td>other</td>\n",
       "      <td>0.200000</td>\n",
       "      <td>21.250</td>\n",
       "    </tr>\n",
       "    <tr>\n",
       "      <th>851</th>\n",
       "      <td>2_Florian_Heizung_aus.npy</td>\n",
       "      <td>other</td>\n",
       "      <td>0.230000</td>\n",
       "      <td>21.275</td>\n",
       "    </tr>\n",
       "    <tr>\n",
       "      <th>852</th>\n",
       "      <td>2_Florian_Heizung_aus.npy</td>\n",
       "      <td>other</td>\n",
       "      <td>0.230000</td>\n",
       "      <td>21.300</td>\n",
       "    </tr>\n",
       "    <tr>\n",
       "      <th>853</th>\n",
       "      <td>2_Florian_Heizung_aus.npy</td>\n",
       "      <td>other</td>\n",
       "      <td>0.230000</td>\n",
       "      <td>21.325</td>\n",
       "    </tr>\n",
       "  </tbody>\n",
       "</table>\n",
       "<p>854 rows × 4 columns</p>\n",
       "</div>"
      ]
     },
     "execution_count": 41,
     "metadata": {},
     "output_type": "execute_result"
    }
   ],
   "execution_count": 41
  }
 ],
 "metadata": {
  "kernelspec": {
   "display_name": "Python 3",
   "language": "python",
   "name": "python3"
  },
  "language_info": {
   "codemirror_mode": {
    "name": "ipython",
    "version": 2
   },
   "file_extension": ".py",
   "mimetype": "text/x-python",
   "name": "python",
   "nbconvert_exporter": "python",
   "pygments_lexer": "ipython2",
   "version": "2.7.6"
  }
 },
 "nbformat": 4,
 "nbformat_minor": 5
}
